{
  "nbformat": 4,
  "nbformat_minor": 0,
  "metadata": {
    "colab": {
      "provenance": []
    },
    "kernelspec": {
      "name": "python3",
      "display_name": "Python 3"
    },
    "language_info": {
      "name": "python"
    }
  },
  "cells": [
    {
      "cell_type": "code",
      "execution_count": 2,
      "metadata": {
        "colab": {
          "base_uri": "https://localhost:8080/"
        },
        "id": "M3Xs-cKaLsG9",
        "outputId": "4706ba04-beee-42b2-defe-b4c4be8c9e09"
      },
      "outputs": [
        {
          "output_type": "stream",
          "name": "stdout",
          "text": [
            "Looking in indexes: https://pypi.org/simple, https://us-python.pkg.dev/colab-wheels/public/simple/\n",
            "Collecting simpy\n",
            "  Downloading simpy-4.0.1-py2.py3-none-any.whl (29 kB)\n",
            "Installing collected packages: simpy\n",
            "Successfully installed simpy-4.0.1\n"
          ]
        }
      ],
      "source": [
        "pip install simpy"
      ]
    },
    {
      "cell_type": "code",
      "source": [
        "import simpy\n",
        "import random"
      ],
      "metadata": {
        "id": "X3Wiu85-L6gT"
      },
      "execution_count": 6,
      "outputs": []
    },
    {
      "cell_type": "code",
      "source": [
        "def source(env, counter, statNumberCustomers, statWaitsTime): \n",
        "  numberCust = 0\n",
        "  while True: # работает всё время работы симуляции\n",
        "    c = customer(env, counter, statWaitsTime) # генерация клиента \n",
        "    env.process(c) # обслуживание клиента\n",
        "    numberCust +=1\n",
        "    statNumberCustomers.append(numberCust)\n",
        "    t = random.choice(range(13, 18)) # каждые 15 +- 2 минуты приходит новыцй клиент\n",
        "    yield env.timeout(t) # задерживаем создание клиента на 15 +- 2 минуты"
      ],
      "metadata": {
        "id": "Ot-6g_pSO4XH"
      },
      "execution_count": 62,
      "outputs": []
    },
    {
      "cell_type": "code",
      "source": [
        "def customer(env, counter, statWaitsTime):\n",
        "  arrive = env.now # время когда клиент встал в очередь\n",
        "  with counter.request() as req: # сотрудник обслуживает клиента и пока с ним не закончит не будет с новым\n",
        "    yield req\n",
        "    statWaitsTime.append(env.now-arrive) #время ожидания = текущие - начальное \n",
        "    serviceTime = random.choice(range(15, 25))\n",
        "    yield env.timeout(serviceTime) # обслуживание 20 +- 5 минут\n",
        "\n",
        "env = simpy.Environment() # создаём симуляцию\n",
        "statWaitsTime=[] # здесь будут все время ожидания\n",
        "statNumberCustomers=[] # здесь будет количество клиентов\n",
        "counter = simpy.Resource(env, capacity=1) # задаём количество \"продавцов\"\n",
        "env.process(source(env, counter, statNumberCustomers, statWaitsTime)) # добавляем процесс source \n",
        "env.run(until=480) # задаём время работы и запускаем симуляцию\n",
        "\n",
        "time = sum(statWaitsTime)/len(statWaitsTime)\n",
        "print(\"Средние время прибывания клиента в очереди: \" + str(time))"
      ],
      "metadata": {
        "colab": {
          "base_uri": "https://localhost:8080/"
        },
        "id": "ZA_kgImWN0NA",
        "outputId": "0d543564-98c4-4640-aa93-06bee5a71cee"
      },
      "execution_count": 96,
      "outputs": [
        {
          "output_type": "stream",
          "name": "stdout",
          "text": [
            "Средние время прибывания клиента в очереди: 55.88\n"
          ]
        }
      ]
    }
  ]
}